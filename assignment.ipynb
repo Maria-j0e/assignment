{
  "nbformat": 4,
  "nbformat_minor": 0,
  "metadata": {
    "colab": {
      "provenance": []
    },
    "kernelspec": {
      "name": "python3",
      "display_name": "Python 3"
    },
    "language_info": {
      "name": "python"
    }
  },
  "cells": [
    {
      "cell_type": "markdown",
      "source": [
        "# Q1. Write a function that return the range (maximum and minimun) of a given list of numbers"
      ],
      "metadata": {
        "id": "0KMIiiwzVwQF"
      }
    },
    {
      "cell_type": "code",
      "execution_count": 69,
      "metadata": {
        "colab": {
          "base_uri": "https://localhost:8080/"
        },
        "id": "6OKbdmk8UDtX",
        "outputId": "5bf952eb-4db0-4a42-c57a-38259321b243"
      },
      "outputs": [
        {
          "output_type": "stream",
          "name": "stdout",
          "text": [
            "max=9, min=-3\n"
          ]
        },
        {
          "output_type": "execute_result",
          "data": {
            "text/plain": [
              "(9, -3)"
            ]
          },
          "metadata": {},
          "execution_count": 69
        }
      ],
      "source": [
        "def calculate_range(numbers):\n",
        "    numbers = [4, 2, 8, 5, 1, 9, -3, 7]\n",
        "    min_val, max_val = numbers[0], numbers[0]\n",
        "    for num in numbers:\n",
        "        if num < min_val:\n",
        "            min_val = num\n",
        "        if num > max_val:\n",
        "            max_val = num\n",
        "    print(f\"max={max_val}, min={min_val}\")\n",
        "    return max_val, min_val\n",
        "\n",
        "calculate_range(numbers)"
      ]
    },
    {
      "cell_type": "markdown",
      "source": [
        "## Q2. Write function that returns mean value of a list of numbers"
      ],
      "metadata": {
        "id": "OD65H1q-Wqcr"
      }
    },
    {
      "cell_type": "code",
      "source": [
        "def cal_mean(numbers):\n",
        "    numbers = [4, 2, 8, 5, 1, 9, -3, 7]\n",
        "    total = sum(numbers)\n",
        "    mean = total / len(numbers)\n",
        "    return mean\n",
        "\n",
        "cal_mean(numbers)"
      ],
      "metadata": {
        "colab": {
          "base_uri": "https://localhost:8080/"
        },
        "id": "0MwsjzK_Wrtp",
        "outputId": "8fe198e5-e0a6-406e-9094-92b8b23e8a43"
      },
      "execution_count": null,
      "outputs": [
        {
          "output_type": "execute_result",
          "data": {
            "text/plain": [
              "4.125"
            ]
          },
          "metadata": {},
          "execution_count": 15
        }
      ]
    },
    {
      "cell_type": "markdown",
      "source": [
        "# Q3. Write a function that returns the median value of a list of numbers"
      ],
      "metadata": {
        "id": "w7V2pzJ8W6qO"
      }
    },
    {
      "cell_type": "code",
      "source": [
        "def cal_median():\n",
        "    num = [4, 2, 8, 5, 1, 9, -3, 7]\n",
        "    num.sort()\n",
        "    n= len(num)\n",
        "    if n % 2 == 0:\n",
        "        median = (num[n // 2 - 1] + num[n // 2]) / 2\n",
        "    else:\n",
        "        median= num [n // 2]\n",
        "    return median\n",
        "\n",
        "cal_median()"
      ],
      "metadata": {
        "colab": {
          "base_uri": "https://localhost:8080/"
        },
        "id": "HwbqyDFQW74q",
        "outputId": "4af7feed-e293-4ef8-8b05-b6acdd2a6dd6"
      },
      "execution_count": 23,
      "outputs": [
        {
          "output_type": "execute_result",
          "data": {
            "text/plain": [
              "4.5"
            ]
          },
          "metadata": {},
          "execution_count": 23
        }
      ]
    },
    {
      "cell_type": "markdown",
      "source": [
        "## Q4. Write a function to return the mod of a list of numbers, if no mod exists, it should return None. If more than one mod exist, return the mod values as list"
      ],
      "metadata": {
        "id": "TXQr0WvnZIn3"
      }
    },
    {
      "cell_type": "code",
      "source": [
        "def find_mode(numbers):\n",
        "    numbers1 = [1,2,3]\n",
        "    modes = []\n",
        "    max_count = 0\n",
        "\n",
        "    for num in numbers:\n",
        "        count = numbers.count(num)\n",
        "        if count > max_count:\n",
        "            max_count = count\n",
        "            modes = [num]\n",
        "        elif count == max_count and num not in modes:\n",
        "            modes.append(num)\n",
        "\n",
        "    return None if max_count == 1 else modes if len(modes) > 1 else modes[0]\n",
        "\n",
        "print(find_mode(numbers1))"
      ],
      "metadata": {
        "colab": {
          "base_uri": "https://localhost:8080/"
        },
        "id": "EI-mKfa1ZJuO",
        "outputId": "66af4436-305f-4fab-d8f3-5f493ebde7b4"
      },
      "execution_count": 28,
      "outputs": [
        {
          "output_type": "stream",
          "name": "stdout",
          "text": [
            "None\n"
          ]
        }
      ]
    },
    {
      "cell_type": "markdown",
      "source": [
        "## Q5. Write function to compute a given percentile value (e.g. 90th percentile) of a list of numbers"
      ],
      "metadata": {
        "id": "CoEf9dv8vbIe"
      }
    },
    {
      "cell_type": "code",
      "source": [
        "def compute_percentile(numbers, percentile):\n",
        "    numbers.sort()\n",
        "    n = len(numbers)\n",
        "    rank = (percentile / 100) * (n - 1)\n",
        "\n",
        "    lower_index = int(rank)\n",
        "    upper_index = lower_index + 1 if lower_index < n - 1 else lower_index\n",
        "    fraction = rank - lower_index\n",
        "\n",
        "    lower_value = numbers[lower_index]\n",
        "    upper_value = numbers[upper_index]\n",
        "\n",
        "    if fraction == 0:\n",
        "        return lower_value\n",
        "    return lower_value + fraction * (upper_value - lower_value)\n",
        "\n",
        "numbers = [10, 20, 30, 40, 50]\n",
        "percentile = 90\n",
        "result = compute_percentile(numbers, percentile)\n",
        "print('percentile:',result)"
      ],
      "metadata": {
        "colab": {
          "base_uri": "https://localhost:8080/"
        },
        "id": "tlgUzeb5t9uz",
        "outputId": "f29bc33a-90d5-414f-9a08-8737bb061953"
      },
      "execution_count": 36,
      "outputs": [
        {
          "output_type": "stream",
          "name": "stdout",
          "text": [
            "percentile: 46.0\n"
          ]
        }
      ]
    },
    {
      "cell_type": "markdown",
      "source": [
        "# Q6. Write a function that returns the lower bound of a list of numbers"
      ],
      "metadata": {
        "id": "KEjGrueCv2q8"
      }
    },
    {
      "cell_type": "code",
      "source": [
        "def calculate_lower_bound(numbers):\n",
        "    numbers = [10, 20, 30, 40, 50, 60, 70, 80, 90]\n",
        "    numbers.sort()\n",
        "    n = len(numbers)\n",
        "\n",
        "    def percentile(data, p):\n",
        "        rank = (p / 100) * (len(data) - 1)\n",
        "        lower = int(rank)\n",
        "        upper = lower + 1 if lower < len(data) - 1 else lower\n",
        "        fraction = rank - lower\n",
        "        return data[lower] + fraction * (data[upper] - data[lower])\n",
        "\n",
        "    Q1 = percentile(numbers, 25)\n",
        "    Q3 = percentile(numbers, 75)\n",
        "\n",
        "    IQR = Q3 - Q1\n",
        "\n",
        "    lower_bound = Q1 - 1.5 * IQR\n",
        "    return lower_bound\n",
        "\n",
        "lb = calculate_lower_bound(numbers)\n",
        "print(\"Lower bound:\", lb)"
      ],
      "metadata": {
        "colab": {
          "base_uri": "https://localhost:8080/"
        },
        "id": "p85ruPKfv9Ay",
        "outputId": "ea4a9912-2994-4869-b93d-709c56983e3e"
      },
      "execution_count": 43,
      "outputs": [
        {
          "output_type": "stream",
          "name": "stdout",
          "text": [
            "Lower bound: -30.0\n"
          ]
        }
      ]
    },
    {
      "cell_type": "markdown",
      "source": [
        "## Q7. Write function to return any outliers from a given list of numbers, if no outliers present it should return None\n"
      ],
      "metadata": {
        "id": "33TG0FV0zbek"
      }
    },
    {
      "cell_type": "code",
      "source": [
        "def find_outliers(numbers):\n",
        "    numbers = [10, 20, 30, 40, 50, 60, 70, 80, 90, 150]\n",
        "\n",
        "    numbers.sort()\n",
        "    n = len(numbers)\n",
        "    def percentile(data, p):\n",
        "        rank = (p / 100) * (len(data) - 1)\n",
        "        lower = int(rank)\n",
        "        upper = lower + 1 if lower < len(data) - 1 else lower\n",
        "        fraction = rank - lower\n",
        "        return data[lower] + fraction * (data[upper] - data[lower])\n",
        "\n",
        "    Q1 = percentile(numbers, 25)\n",
        "    Q3 = percentile(numbers, 75)\n",
        "    IQR = Q3 - Q1\n",
        "\n",
        "    lower_bound = Q1 - 1.5 * IQR\n",
        "    upper_bound = Q3 + 1.5 * IQR\n",
        "\n",
        "    outliers = [x for x in numbers if x < lower_bound or x > upper_bound]\n",
        "    return outliers if outliers else None\n",
        "\n",
        "outliers = find_outliers(numbers)\n",
        "print(\"Outliers:\", outliers)"
      ],
      "metadata": {
        "colab": {
          "base_uri": "https://localhost:8080/"
        },
        "id": "yOjA7dHCzmK_",
        "outputId": "55c649e4-1458-4b27-f293-e3754d6f777d"
      },
      "execution_count": 44,
      "outputs": [
        {
          "output_type": "stream",
          "name": "stdout",
          "text": [
            "Outliers: [150]\n"
          ]
        }
      ]
    },
    {
      "cell_type": "markdown",
      "source": [
        "##Q8. Write a function to return standard deviation of a list of numbers"
      ],
      "metadata": {
        "id": "op7SixG90INq"
      }
    },
    {
      "cell_type": "code",
      "source": [
        "import math\n",
        "\n",
        "def cal_sd(X):\n",
        "    mean = sum(X) / len(X)\n",
        "    s = 0\n",
        "    for i in X:\n",
        "        s =s+ (i - mean) ** 2\n",
        "    variance = s / len(X)\n",
        "    std_dev = math.sqrt(variance)\n",
        "    return variance, std_dev\n",
        "\n",
        "numbers = [10, 8, 2, 3, 5, 6]\n",
        "variance, std_dev = cal_sd(numbers)\n",
        "print(\"Variance: \",variance)\n",
        "print(\"Standard Deviation: \",std_dev)"
      ],
      "metadata": {
        "colab": {
          "base_uri": "https://localhost:8080/"
        },
        "id": "rGlFOunk0OXA",
        "outputId": "3363d0c3-046c-47cf-dd6c-b0a9fea97122"
      },
      "execution_count": 49,
      "outputs": [
        {
          "output_type": "stream",
          "name": "stdout",
          "text": [
            "Variance:  7.555555555555556\n",
            "Standard Deviation:  2.748737083745107\n"
          ]
        }
      ]
    },
    {
      "cell_type": "markdown",
      "source": [
        "## Q9. Write function to compute and return Z-score values of a list of numbers"
      ],
      "metadata": {
        "id": "f6DxA6wd2HeV"
      }
    },
    {
      "cell_type": "code",
      "source": [
        "import math\n",
        "\n",
        "def z_scores(numbers):\n",
        "    numbers = [10, 8, 2, 3, 5, 6]\n",
        "    n = len(numbers)\n",
        "    mean = sum(numbers) / n\n",
        "    variance = 0\n",
        "    for num in numbers:\n",
        "        variance =variance + (num - mean) ** 2\n",
        "    varianc = variance /n\n",
        "    std_dev = math.sqrt(varianc)\n",
        "    z_scores = []\n",
        "    for num in numbers:\n",
        "        z_scores.append((num - mean) / std_dev)\n",
        "    return z_scores\n",
        "\n",
        "z_score = z_scores(numbers)\n",
        "print(\"Z-scores:\",z_score)"
      ],
      "metadata": {
        "colab": {
          "base_uri": "https://localhost:8080/"
        },
        "id": "Eh-fq4VR3MQV",
        "outputId": "6fc14439-273b-454c-a07f-f08be7e79c4b"
      },
      "execution_count": 63,
      "outputs": [
        {
          "output_type": "stream",
          "name": "stdout",
          "text": [
            "Z-scores: [1.5764815627361641, 0.8488746876271653, -1.3339459376998315, -0.970142500145332, -0.24253562503633308, 0.12126781251816637]\n"
          ]
        }
      ]
    },
    {
      "cell_type": "markdown",
      "source": [
        "## Q10. Write a function to compute and return the Pearson correlation coefficient value of two list of numbers"
      ],
      "metadata": {
        "id": "EBuJmNF57qg-"
      }
    },
    {
      "cell_type": "code",
      "source": [
        "def pearson_correlation():\n",
        "    X = [1, 2, 3, 4, 5]\n",
        "    Y = [2, 3, 4, 5, 6]\n",
        "    n = len(X)\n",
        "    mean_X = sum(X) / n\n",
        "    mean_Y = sum(Y) / n\n",
        "    numerator = 0\n",
        "    for i in range(n):\n",
        "        numerator += (X[i] - mean_X) * (Y[i] - mean_Y)\n",
        "    sum_diff_X = 0\n",
        "    sum_diff_Y = 0\n",
        "    for i in range(n):\n",
        "        sum_diff_X += (X[i] - mean_X) ** 2\n",
        "        sum_diff_Y += (Y[i] - mean_Y) ** 2\n",
        "    denominator = (sum_diff_X * sum_diff_Y) ** 0.5\n",
        "    return numerator / denominator\n",
        "print(pearson_correlation())"
      ],
      "metadata": {
        "colab": {
          "base_uri": "https://localhost:8080/"
        },
        "id": "T4ayDj9P7tLW",
        "outputId": "388407c4-0b6f-447b-ed83-a3dcb1948e41"
      },
      "execution_count": 68,
      "outputs": [
        {
          "output_type": "stream",
          "name": "stdout",
          "text": [
            "1.0\n"
          ]
        }
      ]
    }
  ]
}